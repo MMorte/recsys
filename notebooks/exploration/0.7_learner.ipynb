{
 "cells": [
  {
   "cell_type": "code",
   "execution_count": 3,
   "metadata": {
    "scrolled": true
   },
   "outputs": [
    {
     "name": "stdout",
     "output_type": "stream",
     "text": [
      "C:\\Users\\mmatousek\\GIT\\ncf\n"
     ]
    }
   ],
   "source": [
    "cd C:\\Users\\mmatousek\\GIT\\ncf"
   ]
  },
  {
   "cell_type": "code",
   "execution_count": 4,
   "metadata": {},
   "outputs": [
    {
     "name": "stdout",
     "output_type": "stream",
     "text": [
      "The autoreload extension is already loaded. To reload it, use:\n",
      "  %reload_ext autoreload\n"
     ]
    }
   ],
   "source": [
    "%load_ext autoreload\n",
    "%autoreload 2"
   ]
  },
  {
   "cell_type": "code",
   "execution_count": 5,
   "metadata": {},
   "outputs": [],
   "source": [
    "from ncf.data import CollaborativeFilteringDataset\n",
    "from ncf.model import Learner\n",
    "from ncf.visualization import Visualizer"
   ]
  },
  {
   "cell_type": "code",
   "execution_count": 6,
   "metadata": {},
   "outputs": [],
   "source": [
    "data = CollaborativeFilteringDataset(dataset='ml-100k')"
   ]
  },
  {
   "cell_type": "code",
   "execution_count": 7,
   "metadata": {},
   "outputs": [],
   "source": [
    "learn = Learner(n_epochs=3, data=data, y_range=(0.,5.5))"
   ]
  },
  {
   "cell_type": "code",
   "execution_count": 9,
   "metadata": {
    "scrolled": true
   },
   "outputs": [
    {
     "name": "stdout",
     "output_type": "stream",
     "text": [
      "Epoch 0, batch 1000: 1.8796201283931733\n",
      "Epoch 1, batch 1000: 1.8814199825525284\n",
      "Epoch 2, batch 1000: 1.877735898256302\n",
      "Epoch 3, batch 1000: 1.8810286959409714\n",
      "Epoch 4, batch 1000: 1.8749605653285981\n",
      "Epoch 5, batch 1000: 1.8811246396303176\n",
      "Epoch 6, batch 1000: 1.874058012008667\n",
      "Epoch 7, batch 1000: 1.8843991585969926\n",
      "Epoch 8, batch 1000: 1.87699495947361\n",
      "Epoch 9, batch 1000: 1.8691164498329162\n",
      "Epoch 10, batch 1000: 1.8756238096952438\n",
      "Epoch 11, batch 1000: 1.8813261818885803\n",
      "Epoch 12, batch 1000: 1.8653285853862762\n",
      "Epoch 13, batch 1000: 1.8694166308641433\n",
      "Epoch 14, batch 1000: 1.8731149386167527\n",
      "Epoch 15, batch 1000: 1.8656350172758103\n",
      "Epoch 16, batch 1000: 1.8660945694446565\n",
      "Epoch 17, batch 1000: 1.8541406637430191\n",
      "Epoch 18, batch 1000: 1.8555189261436462\n",
      "Epoch 19, batch 1000: 1.8537188519239425\n",
      "Epoch 20, batch 1000: 1.8454719581604004\n",
      "Epoch 21, batch 1000: 1.841872369647026\n",
      "Epoch 22, batch 1000: 1.8287860006093979\n",
      "Epoch 23, batch 1000: 1.82117205452919\n",
      "Epoch 24, batch 1000: 1.8089692722558974\n",
      "Epoch 25, batch 1000: 1.7910397198200225\n",
      "Epoch 26, batch 1000: 1.7731377823352814\n",
      "Epoch 27, batch 1000: 1.755973552107811\n",
      "Epoch 28, batch 1000: 1.7258883669376373\n",
      "Epoch 29, batch 1000: 1.691463562130928\n",
      "Epoch 30, batch 1000: 1.6459487241506576\n",
      "Epoch 31, batch 1000: 1.5806228111982346\n",
      "Epoch 32, batch 1000: 1.495969957113266\n",
      "Epoch 33, batch 1000: 1.3938495111465454\n",
      "Epoch 34, batch 1000: 1.2794543989896774\n",
      "Epoch 35, batch 1000: 1.1619471727609634\n",
      "Epoch 36, batch 1000: 1.0637921052575112\n",
      "Epoch 37, batch 1000: 0.9911891741156578\n",
      "Epoch 38, batch 1000: 0.9409536973237992\n",
      "Epoch 39, batch 1000: 0.911012050151825\n",
      "Epoch 40, batch 1000: 0.8830827845335006\n",
      "Epoch 41, batch 1000: 0.8634165312647819\n",
      "Epoch 42, batch 1000: 0.8439230314791203\n",
      "Epoch 43, batch 1000: 0.8276260135471821\n",
      "Epoch 44, batch 1000: 0.8023766613006592\n",
      "Epoch 45, batch 1000: 0.7807455237805844\n",
      "Epoch 46, batch 1000: 0.7548526150286198\n",
      "Epoch 47, batch 1000: 0.7270268508791924\n",
      "Epoch 48, batch 1000: 0.6899740509390831\n",
      "Epoch 49, batch 1000: 0.6365795775949955\n",
      "Epoch 50, batch 1000: 0.5699863512516021\n",
      "Epoch 51, batch 1000: 0.4969708959162235\n",
      "Epoch 52, batch 1000: 0.42760460494458674\n",
      "Epoch 53, batch 1000: 0.36867571441829206\n",
      "Epoch 54, batch 1000: 0.33010253927111627\n",
      "Epoch 55, batch 1000: 0.311432913839817\n",
      "Epoch 56, batch 1000: 0.3009511767551303\n",
      "Epoch 57, batch 1000: 0.311734579756856\n",
      "Epoch 58, batch 1000: 0.32708060701191427\n",
      "Epoch 59, batch 1000: 0.36764407762885093\n",
      "Epoch 60, batch 1000: 0.4206141845136881\n",
      "Epoch 61, batch 1000: 0.5008760093003511\n",
      "Epoch 62, batch 1000: 0.6147802151441574\n",
      "Epoch 63, batch 1000: 0.7669248284995556\n",
      "Epoch 64, batch 1000: 0.9674261616766453\n",
      "Stopping early, the loss has diverged\n",
      "Learning rate search finished. See the graph with {Visualizer}.lr_finder()\n"
     ]
    }
   ],
   "source": [
    "learn.lr_find()"
   ]
  },
  {
   "cell_type": "code",
   "execution_count": 10,
   "metadata": {},
   "outputs": [],
   "source": [
    "v = Visualizer(learner=learn)"
   ]
  },
  {
   "cell_type": "code",
   "execution_count": 11,
   "metadata": {},
   "outputs": [
    {
     "data": {
      "image/png": "[encoded data removed]",
      "text/plain": [
       "<Figure size 432x288 with 1 Axes>"
      ]
     },
     "metadata": {
      "needs_background": "light"
     },
     "output_type": "display_data"
    },
    {
     "data": {
      "text/plain": [
       "<matplotlib.axes._subplots.AxesSubplot at 0x1ed84b0b3c8>"
      ]
     },
     "execution_count": 11,
     "metadata": {},
     "output_type": "execute_result"
    }
   ],
   "source": [
    "v.lr_finder()"
   ]
  }
 ],
 "metadata": {
  "kernelspec": {
   "display_name": "Python 3",
   "language": "python",
   "name": "python3"
  },
  "language_info": {
   "codemirror_mode": {
    "name": "ipython",
    "version": 3
   },
   "file_extension": ".py",
   "mimetype": "text/x-python",
   "name": "python",
   "nbconvert_exporter": "python",
   "pygments_lexer": "ipython3",
   "version": "3.7.3"
  }
 },
 "nbformat": 4,
 "nbformat_minor": 4
}
