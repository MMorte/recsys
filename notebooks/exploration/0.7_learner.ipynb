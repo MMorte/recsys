{
 "cells": [
  {
   "cell_type": "code",
   "execution_count": 1,
   "metadata": {
    "scrolled": true
   },
   "outputs": [
    {
     "name": "stdout",
     "output_type": "stream",
     "text": [
      "C:\\Users\\mmatousek\\GIT\\ncf\n"
     ]
    }
   ],
   "source": [
    "cd C:\\Users\\mmatousek\\GIT\\ncf"
   ]
  },
  {
   "cell_type": "code",
   "execution_count": 2,
   "metadata": {},
   "outputs": [],
   "source": [
    "%load_ext autoreload\n",
    "%autoreload 2"
   ]
  },
  {
   "cell_type": "code",
   "execution_count": 3,
   "metadata": {},
   "outputs": [],
   "source": [
    "from ncf.data import CollaborativeFilteringDataset\n",
    "# from ncf.model import EmbeddingNet"
   ]
  },
  {
   "cell_type": "code",
   "execution_count": 4,
   "metadata": {},
   "outputs": [],
   "source": [
    "from ncf.model._learner import Learner\n",
    "# from ncf.model import EmbeddingNet"
   ]
  },
  {
   "cell_type": "code",
   "execution_count": 5,
   "metadata": {},
   "outputs": [],
   "source": [
    "data = CollaborativeFilteringDataset(dataset='books')"
   ]
  },
  {
   "cell_type": "code",
   "execution_count": 6,
   "metadata": {},
   "outputs": [],
   "source": [
    "learn = Learner(data=data, y_range=(0.,10.5))"
   ]
  },
  {
   "cell_type": "code",
   "execution_count": null,
   "metadata": {
    "scrolled": true
   },
   "outputs": [
    {
     "name": "stdout",
     "output_type": "stream",
     "text": [
      "Epoch 0, batch 200: 20.675324583053587\n",
      "Epoch 0, batch 201: 20.670573400620796\n",
      "Epoch 0, batch 202: 20.657727666420513\n",
      "Epoch 0, batch 203: 20.661703513760873\n",
      "Epoch 0, batch 204: 20.660711681141574\n",
      "Epoch 0, batch 205: 20.66684737787014\n",
      "Epoch 0, batch 206: 20.668406866129164\n",
      "Epoch 0, batch 207: 20.668063546148474\n",
      "Epoch 0, batch 208: 20.672772930218624\n",
      "Epoch 0, batch 209: 20.67525243987307\n",
      "Epoch 0, batch 210: 20.67866972968692\n",
      "Epoch 0, batch 211: 20.689587669914932\n",
      "Epoch 0, batch 212: 20.699726248687167\n",
      "Epoch 0, batch 213: 20.70466304832781\n",
      "Epoch 0, batch 214: 20.703327321560582\n",
      "Epoch 0, batch 215: 20.69812905067621\n",
      "Epoch 0, batch 216: 20.695776771616053\n",
      "Epoch 0, batch 217: 20.68806378412906\n",
      "Epoch 0, batch 218: 20.69301344495301\n",
      "Epoch 0, batch 219: 20.68963076099413\n",
      "Epoch 0, batch 220: 20.68634003725919\n",
      "Epoch 0, batch 221: 20.690046034247626\n",
      "Epoch 0, batch 222: 20.679762831679337\n",
      "Epoch 0, batch 223: 20.67985856265765\n",
      "Epoch 0, batch 224: 20.680798871176584\n",
      "Epoch 0, batch 225: 20.685219353569877\n",
      "Epoch 0, batch 226: 20.687267370983562\n",
      "Epoch 0, batch 227: 20.688684648354148\n",
      "Epoch 0, batch 228: 20.679162937298155\n",
      "Epoch 0, batch 229: 20.67727465400529\n",
      "Epoch 0, batch 230: 20.680401586449666\n",
      "Epoch 0, batch 231: 20.665139929040684\n",
      "Epoch 0, batch 232: 20.668018941221565\n",
      "Epoch 0, batch 233: 20.671312021083587\n",
      "Epoch 0, batch 234: 20.668173749222714\n",
      "Epoch 0, batch 235: 20.6734721488141\n",
      "Epoch 0, batch 236: 20.667833360575013\n",
      "Epoch 0, batch 237: 20.662736570784816\n",
      "Epoch 0, batch 238: 20.66201278942974\n",
      "Epoch 0, batch 239: 20.657422700187652\n",
      "Epoch 0, batch 240: 20.653188292185465\n",
      "Epoch 0, batch 241: 20.658440649262108\n",
      "Epoch 0, batch 242: 20.653185600091604\n",
      "Epoch 0, batch 243: 20.649875703662513\n",
      "Epoch 0, batch 244: 20.647214006205076\n",
      "Epoch 0, batch 245: 20.65021387216996\n",
      "Epoch 0, batch 246: 20.64852695930295\n",
      "Epoch 0, batch 247: 20.64989705413942\n",
      "Epoch 0, batch 248: 20.643713897274388\n",
      "Epoch 0, batch 249: 20.64789336943722\n",
      "Epoch 0, batch 250: 20.64238269805908\n",
      "Epoch 0, batch 251: 20.637116306806465\n",
      "Epoch 0, batch 252: 20.634252646612744\n",
      "Epoch 0, batch 253: 20.630654843899574\n",
      "Epoch 0, batch 254: 20.634682670352966\n",
      "Epoch 0, batch 255: 20.63844607484107\n",
      "Epoch 0, batch 256: 20.63772263377905\n",
      "Epoch 0, batch 257: 20.62535272590845\n",
      "Epoch 0, batch 258: 20.630643260571382\n",
      "Epoch 0, batch 259: 20.635587412418086\n",
      "Epoch 0, batch 260: 20.633654653109037\n",
      "Epoch 0, batch 261: 20.636397401948543\n",
      "Epoch 0, batch 262: 20.628339534497442\n",
      "Epoch 0, batch 263: 20.622977586753468\n",
      "Epoch 0, batch 264: 20.619946277502812\n",
      "Epoch 0, batch 265: 20.613841247558593\n",
      "Epoch 0, batch 266: 20.617841942866047\n",
      "Epoch 0, batch 267: 20.62500181448147\n",
      "Epoch 0, batch 268: 20.63061183246214\n",
      "Epoch 0, batch 269: 20.63572542552168\n",
      "Epoch 0, batch 270: 20.63059358243589\n",
      "Epoch 0, batch 271: 20.631151818701262\n",
      "Epoch 0, batch 272: 20.633454771602857\n",
      "Epoch 0, batch 273: 20.634812051123316\n",
      "Epoch 0, batch 274: 20.641133517244437\n",
      "Epoch 0, batch 275: 20.652161317305133\n",
      "Epoch 0, batch 276: 20.647221724192303\n",
      "Epoch 0, batch 277: 20.64561122247028\n",
      "Epoch 0, batch 278: 20.647951222152162\n",
      "Epoch 0, batch 279: 20.647084984728085\n",
      "Epoch 0, batch 280: 20.644219282695225\n",
      "Epoch 0, batch 281: 20.646517804508957\n",
      "Epoch 0, batch 282: 20.637612552507548\n",
      "Epoch 0, batch 283: 20.63846880639821\n",
      "Epoch 0, batch 284: 20.63604128528649\n",
      "Epoch 0, batch 285: 20.637162499678762\n",
      "Epoch 0, batch 286: 20.63521705307327\n",
      "Epoch 0, batch 287: 20.628350998881803\n",
      "Epoch 0, batch 288: 20.629981054200066\n",
      "Epoch 0, batch 289: 20.62781398601598\n",
      "Epoch 0, batch 290: 20.625028735193712\n",
      "Epoch 0, batch 291: 20.621669041741754\n",
      "Epoch 0, batch 292: 20.61871464611733\n",
      "Epoch 0, batch 293: 20.611935911731916\n",
      "Epoch 0, batch 294: 20.60857140288061\n",
      "Epoch 0, batch 295: 20.59703309010651\n",
      "Epoch 0, batch 296: 20.591615786423553\n",
      "Epoch 0, batch 297: 20.588148168441823\n",
      "Epoch 0, batch 298: 20.58819766332639\n",
      "Epoch 0, batch 299: 20.58297469863126\n",
      "Epoch 0, batch 300: 20.58362939198812\n",
      "Epoch 0, batch 301: 20.584081022446338\n",
      "Epoch 0, batch 302: 20.579071701757165\n",
      "Epoch 0, batch 303: 20.582254768598197\n",
      "Epoch 0, batch 304: 20.582720988675167\n",
      "Epoch 0, batch 305: 20.579126870827597\n",
      "Epoch 0, batch 306: 20.5758001227784\n",
      "Epoch 0, batch 307: 20.576531413323718\n",
      "Epoch 0, batch 308: 20.580401649722806\n",
      "Epoch 0, batch 309: 20.580917117665116\n",
      "Epoch 0, batch 310: 20.590416871347735\n",
      "Epoch 0, batch 311: 20.58861035779358\n",
      "Epoch 0, batch 312: 20.589042253983326\n",
      "Epoch 0, batch 313: 20.58393482049814\n",
      "Epoch 0, batch 314: 20.586652585655262\n",
      "Epoch 0, batch 315: 20.584151809934585\n",
      "Epoch 0, batch 316: 20.59384609174125\n",
      "Epoch 0, batch 317: 20.585505235834454\n",
      "Epoch 0, batch 318: 20.589490080779452\n",
      "Epoch 0, batch 319: 20.58480699234248\n",
      "Epoch 0, batch 320: 20.587683814764024\n",
      "Epoch 0, batch 321: 20.574438077267086\n",
      "Epoch 0, batch 322: 20.56872710826234\n",
      "Epoch 0, batch 323: 20.57074653105839\n",
      "Epoch 0, batch 324: 20.574439137070268\n",
      "Epoch 0, batch 325: 20.582243077204776\n",
      "Epoch 0, batch 326: 20.58537070151487\n",
      "Epoch 0, batch 327: 20.585433551660007\n",
      "Epoch 0, batch 328: 20.589765938316905\n",
      "Epoch 0, batch 329: 20.59404082718591\n",
      "Epoch 0, batch 330: 20.593609393726695\n",
      "Epoch 0, batch 331: 20.592316785967963\n",
      "Epoch 0, batch 332: 20.588898354266064\n",
      "Epoch 0, batch 333: 20.591516563484262\n",
      "Epoch 0, batch 334: 20.593549517100442\n",
      "Epoch 0, batch 335: 20.591038997137723\n",
      "Epoch 0, batch 336: 20.58874221642812\n",
      "Epoch 0, batch 337: 20.591493702783783\n",
      "Epoch 0, batch 338: 20.586432976130197\n",
      "Epoch 0, batch 339: 20.58792663956814\n",
      "Epoch 0, batch 340: 20.58742324043723\n",
      "Epoch 0, batch 341: 20.587366165653354\n",
      "Epoch 0, batch 342: 20.587313406648693\n",
      "Epoch 0, batch 343: 20.59125017772263\n",
      "Epoch 0, batch 344: 20.59343689541484\n",
      "Epoch 0, batch 345: 20.595819224481996\n",
      "Epoch 0, batch 346: 20.592962061049622\n",
      "Epoch 0, batch 347: 20.587707288670607\n",
      "Epoch 0, batch 348: 20.593218299164167\n",
      "Epoch 0, batch 349: 20.59997434534111\n",
      "Epoch 0, batch 350: 20.602581236703056\n",
      "Epoch 0, batch 351: 20.590981198172283\n",
      "Epoch 0, batch 352: 20.595833599567413\n",
      "Epoch 0, batch 353: 20.59367849333766\n",
      "Epoch 0, batch 354: 20.59404284805901\n",
      "Epoch 0, batch 355: 20.59318301241163\n",
      "Epoch 0, batch 356: 20.595252058479222\n",
      "Epoch 0, batch 357: 20.597863771668337\n",
      "Epoch 0, batch 358: 20.598056819851838\n",
      "Epoch 0, batch 359: 20.599927424056283\n",
      "Epoch 0, batch 360: 20.59955907927619\n",
      "Epoch 0, batch 361: 20.604442649270688\n",
      "Epoch 0, batch 362: 20.598084207397797\n",
      "Epoch 0, batch 363: 20.60300067764997\n",
      "Epoch 0, batch 364: 20.609193251683163\n",
      "Epoch 0, batch 365: 20.614795339924015\n",
      "Epoch 0, batch 366: 20.614640757034387\n",
      "Epoch 0, batch 367: 20.61388253775864\n",
      "Epoch 0, batch 368: 20.606366748395175\n",
      "Epoch 0, batch 369: 20.602588829309315\n",
      "Epoch 0, batch 370: 20.606232179177773\n",
      "Epoch 0, batch 371: 20.609768700406878\n",
      "Epoch 0, batch 372: 20.618258968476326\n",
      "Epoch 0, batch 373: 20.61736223972515\n",
      "Epoch 0, batch 374: 20.61540476651115\n",
      "Epoch 0, batch 375: 20.61614569600423\n",
      "Epoch 0, batch 376: 20.620287656784058\n",
      "Epoch 0, batch 377: 20.62049517644179\n",
      "Epoch 0, batch 378: 20.619410716667378\n",
      "Epoch 0, batch 379: 20.618828720656424\n",
      "Epoch 0, batch 380: 20.6169819028754\n",
      "Epoch 0, batch 381: 20.613693672840988\n",
      "Epoch 0, batch 382: 20.612445586638923\n",
      "Epoch 0, batch 383: 20.61330883434485\n",
      "Epoch 0, batch 384: 20.61000283062458\n",
      "Epoch 0, batch 385: 20.613074973960977\n",
      "Epoch 0, batch 386: 20.614612277925325\n",
      "Epoch 0, batch 387: 20.608343341245824\n",
      "Epoch 0, batch 388: 20.617003730891906\n",
      "Epoch 0, batch 389: 20.621506816010854\n",
      "Epoch 0, batch 390: 20.627326980003943\n",
      "Epoch 0, batch 391: 20.62887491777425\n",
      "Epoch 0, batch 392: 20.631983474809296\n",
      "Epoch 0, batch 393: 20.631485470682005\n",
      "Epoch 0, batch 394: 20.623163126446872\n",
      "Epoch 0, batch 395: 20.621097584012187\n",
      "Epoch 0, batch 396: 20.626839835234364\n",
      "Epoch 0, batch 397: 20.621723227897277\n",
      "Epoch 0, batch 398: 20.62037925624368\n",
      "Epoch 0, batch 399: 20.620811103878165\n"
     ]
    }
   ],
   "source": [
    "learn.lr_find()"
   ]
  },
  {
   "cell_type": "code",
   "execution_count": 23,
   "metadata": {},
   "outputs": [
    {
     "ename": "AttributeError",
     "evalue": "'Learner' object has no attribute 'plot'",
     "output_type": "error",
     "traceback": [
      "\u001b[1;31m---------------------------------------------------------------------------\u001b[0m",
      "\u001b[1;31mAttributeError\u001b[0m                            Traceback (most recent call last)",
      "\u001b[1;32m<ipython-input-23-d0dc933fba12>\u001b[0m in \u001b[0;36m<module>\u001b[1;34m\u001b[0m\n\u001b[1;32m----> 1\u001b[1;33m \u001b[0mlearn\u001b[0m\u001b[1;33m.\u001b[0m\u001b[0mplot\u001b[0m\u001b[1;33m(\u001b[0m\u001b[0mskip_start\u001b[0m\u001b[1;33m=\u001b[0m\u001b[1;36m15\u001b[0m\u001b[1;33m)\u001b[0m\u001b[1;33m\u001b[0m\u001b[1;33m\u001b[0m\u001b[0m\n\u001b[0m",
      "\u001b[1;31mAttributeError\u001b[0m: 'Learner' object has no attribute 'plot'"
     ]
    }
   ],
   "source": [
    "learn.plot(skip_start=15)"
   ]
  },
  {
   "cell_type": "code",
   "execution_count": null,
   "metadata": {},
   "outputs": [],
   "source": []
  }
 ],
 "metadata": {
  "kernelspec": {
   "display_name": "Python 3",
   "language": "python",
   "name": "python3"
  },
  "language_info": {
   "codemirror_mode": {
    "name": "ipython",
    "version": 3
   },
   "file_extension": ".py",
   "mimetype": "text/x-python",
   "name": "python",
   "nbconvert_exporter": "python",
   "pygments_lexer": "ipython3",
   "version": "3.7.3"
  }
 },
 "nbformat": 4,
 "nbformat_minor": 4
}
