{
 "cells": [
  {
   "cell_type": "code",
   "execution_count": 1,
   "metadata": {
    "scrolled": true
   },
   "outputs": [
    {
     "name": "stdout",
     "output_type": "stream",
     "text": [
      "C:\\Users\\mmatousek\\GIT\\ncf\n"
     ]
    }
   ],
   "source": [
    "cd C:\\Users\\mmatousek\\GIT\\ncf"
   ]
  },
  {
   "cell_type": "code",
   "execution_count": 2,
   "metadata": {},
   "outputs": [],
   "source": [
    "%load_ext autoreload\n",
    "%autoreload 2"
   ]
  },
  {
   "cell_type": "code",
   "execution_count": 3,
   "metadata": {},
   "outputs": [],
   "source": [
    "from ncf.data import CollaborativeFilteringDataset\n",
    "# from ncf.model import EmbeddingNet"
   ]
  },
  {
   "cell_type": "code",
   "execution_count": 4,
   "metadata": {},
   "outputs": [],
   "source": [
    "from ncf.model._learner import Learner\n",
    "# from ncf.model import EmbeddingNet"
   ]
  },
  {
   "cell_type": "code",
   "execution_count": 5,
   "metadata": {},
   "outputs": [],
   "source": [
    "data = CollaborativeFilteringDataset(dataset='ml-100k')"
   ]
  },
  {
   "cell_type": "code",
   "execution_count": 6,
   "metadata": {},
   "outputs": [],
   "source": [
    "learn = Learner(data=data, y_range=(0.,5.5))"
   ]
  },
  {
   "cell_type": "code",
   "execution_count": 7,
   "metadata": {},
   "outputs": [
    {
     "name": "stdout",
     "output_type": "stream",
     "text": [
      "Epoch: 0 loss: 1.8778404033879297\n",
      "Epoch: 1 loss: 1.8777273249829647\n",
      "Epoch: 2 loss: 1.8773334560489248\n",
      "Epoch: 3 loss: 1.8770710179849845\n",
      "Epoch: 4 loss: 1.8769975606442175\n",
      "Epoch: 5 loss: 1.8760620554005607\n",
      "Epoch: 6 loss: 1.8756516227342326\n",
      "Epoch: 7 loss: 1.8751069168278027\n",
      "Epoch: 8 loss: 1.8743128728222203\n",
      "Epoch: 9 loss: 1.8738810843966933\n",
      "Epoch: 10 loss: 1.8728054493114585\n",
      "Epoch: 11 loss: 1.871592244416857\n",
      "Epoch: 12 loss: 1.870048679718761\n",
      "Epoch: 13 loss: 1.8685572726458608\n",
      "Epoch: 14 loss: 1.866418980941664\n",
      "Epoch: 15 loss: 1.8641312421639986\n",
      "Epoch: 16 loss: 1.8608908887268978\n",
      "Epoch: 17 loss: 1.8578211124218036\n",
      "Epoch: 18 loss: 1.853321907869613\n",
      "Epoch: 19 loss: 1.8488924928104895\n",
      "Epoch: 20 loss: 1.8427359074311778\n",
      "Epoch: 21 loss: 1.8349505144027016\n",
      "Epoch: 22 loss: 1.8263490841025818\n",
      "Epoch: 23 loss: 1.8162042864864616\n",
      "Epoch: 24 loss: 1.8040310368259804\n",
      "Epoch: 25 loss: 1.7892075054676062\n",
      "Epoch: 26 loss: 1.7713226947302838\n",
      "Epoch: 27 loss: 1.749848029013209\n",
      "Epoch: 28 loss: 1.7228378561109432\n",
      "Epoch: 29 loss: 1.6877668678845315\n",
      "Epoch: 30 loss: 1.6411791921170642\n",
      "Epoch: 31 loss: 1.5782939044713635\n",
      "Epoch: 32 loss: 1.4961895124925828\n",
      "Epoch: 33 loss: 1.3943001884400081\n",
      "Epoch: 34 loss: 1.2786830145213886\n",
      "Epoch: 35 loss: 1.1611452828006419\n",
      "Epoch: 36 loss: 1.0604182870934054\n",
      "Epoch: 37 loss: 0.9859757949498775\n",
      "Epoch: 38 loss: 0.9350243954790775\n",
      "Epoch: 39 loss: 0.9007268437577854\n",
      "Epoch: 40 loss: 0.8731893847880629\n",
      "Epoch: 41 loss: 0.8495108028648588\n",
      "Epoch: 42 loss: 0.8271603399243836\n",
      "Epoch: 43 loss: 0.806012964329204\n",
      "Epoch: 44 loss: 0.7854054626156901\n",
      "Epoch: 45 loss: 0.7658711299830107\n",
      "Epoch: 46 loss: 0.7446163706852396\n",
      "Epoch: 47 loss: 0.7178764234735481\n",
      "Epoch: 48 loss: 0.6802506494106643\n",
      "Epoch: 49 loss: 0.6272433052954939\n",
      "Epoch: 50 loss: 0.561635722158474\n",
      "Epoch: 51 loss: 0.4921279209288391\n",
      "Epoch: 52 loss: 0.4279127523493801\n",
      "Epoch: 53 loss: 0.37782032983867747\n",
      "Epoch: 54 loss: 0.34526646796449656\n",
      "Epoch: 55 loss: 0.32735767177336583\n",
      "Epoch: 56 loss: 0.32285074299336497\n",
      "Epoch: 57 loss: 0.33060654949073603\n",
      "Epoch: 58 loss: 0.3523461145917179\n",
      "Epoch: 59 loss: 0.39548740560350515\n",
      "Epoch: 60 loss: 0.45154889028620077\n",
      "Epoch: 61 loss: 0.5385855087536158\n",
      "Epoch: 62 loss: 0.6531020659174384\n",
      "Epoch: 63 loss: 0.8181953085308225\n",
      "Epoch: 64 loss: 1.0393563746176606\n",
      "Epoch: 65 loss: 1.3597841522262921\n",
      "Epoch: 66 loss: 1.8272969488738102\n",
      "Stopping early, the loss has diverged\n",
      "Learning rate search finished. See the graph with {finder_name}.plot()\n"
     ]
    }
   ],
   "source": [
    "learn.lr_find()"
   ]
  },
  {
   "cell_type": "code",
   "execution_count": 17,
   "metadata": {},
   "outputs": [
    {
     "data": {
      "image/png": "[encoded data removed]",
      "text/plain": [
       "<Figure size 432x288 with 1 Axes>"
      ]
     },
     "metadata": {
      "needs_background": "light"
     },
     "output_type": "display_data"
    },
    {
     "data": {
      "text/plain": [
       "<matplotlib.axes._subplots.AxesSubplot at 0x19e0b109b38>"
      ]
     },
     "execution_count": 17,
     "metadata": {},
     "output_type": "execute_result"
    }
   ],
   "source": [
    "learn.plot(skip_start=25)"
   ]
  },
  {
   "cell_type": "code",
   "execution_count": 10,
   "metadata": {},
   "outputs": [
    {
     "data": {
      "text/plain": [
       "0.0001"
      ]
     },
     "execution_count": 10,
     "metadata": {},
     "output_type": "execute_result"
    }
   ],
   "source": [
    "float(1e-4)"
   ]
  },
  {
   "cell_type": "code",
   "execution_count": 12,
   "metadata": {},
   "outputs": [
    {
     "data": {
      "text/plain": [
       "0.0001"
      ]
     },
     "execution_count": 12,
     "metadata": {},
     "output_type": "execute_result"
    }
   ],
   "source": [
    "float(10e-5)"
   ]
  },
  {
   "cell_type": "code",
   "execution_count": null,
   "metadata": {},
   "outputs": [],
   "source": []
  }
 ],
 "metadata": {
  "kernelspec": {
   "display_name": "Python 3",
   "language": "python",
   "name": "python3"
  },
  "language_info": {
   "codemirror_mode": {
    "name": "ipython",
    "version": 3
   },
   "file_extension": ".py",
   "mimetype": "text/x-python",
   "name": "python",
   "nbconvert_exporter": "python",
   "pygments_lexer": "ipython3",
   "version": "3.7.3"
  }
 },
 "nbformat": 4,
 "nbformat_minor": 4
}
