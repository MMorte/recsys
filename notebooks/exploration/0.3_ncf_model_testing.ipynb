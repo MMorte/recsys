{
 "cells": [
  {
   "cell_type": "code",
   "execution_count": 1,
   "metadata": {},
   "outputs": [
    {
     "name": "stdout",
     "output_type": "stream",
     "text": [
      "C:\\Users\\mmatousek\\GIT\\ncf\n"
     ]
    }
   ],
   "source": [
    "cd C:\\Users\\mmatousek\\GIT\\ncf"
   ]
  },
  {
   "cell_type": "code",
   "execution_count": 2,
   "metadata": {},
   "outputs": [],
   "source": [
    "%load_ext autoreload\n",
    "%autoreload 2"
   ]
  },
  {
   "cell_type": "code",
   "execution_count": 3,
   "metadata": {},
   "outputs": [],
   "source": [
    "from ncf.data import *\n",
    "from ncf.model import CollaborativeFiltering"
   ]
  },
  {
   "cell_type": "code",
   "execution_count": 4,
   "metadata": {},
   "outputs": [],
   "source": [
    "import matplotlib.pyplot as plt"
   ]
  },
  {
   "cell_type": "code",
   "execution_count": 5,
   "metadata": {},
   "outputs": [],
   "source": [
    "import numpy as np"
   ]
  },
  {
   "cell_type": "code",
   "execution_count": 10,
   "metadata": {},
   "outputs": [],
   "source": [
    "data = read_movie_lens(variant='ml-100k')"
   ]
  },
  {
   "cell_type": "code",
   "execution_count": 11,
   "metadata": {},
   "outputs": [],
   "source": [
    "train, test = train_test_split(data)"
   ]
  },
  {
   "cell_type": "code",
   "execution_count": 48,
   "metadata": {},
   "outputs": [],
   "source": [
    "cf = CollaborativeFiltering(n_epochs=1, learning_rate=1e-3, weight_decay=1e-4, batch_size=256, y_range=(0.,5.))"
   ]
  },
  {
   "cell_type": "code",
   "execution_count": 49,
   "metadata": {},
   "outputs": [
    {
     "name": "stdout",
     "output_type": "stream",
     "text": [
      "0\n",
      "1\n",
      "2\n",
      "3\n",
      "4\n"
     ]
    }
   ],
   "source": [
    "epochs = 5\n",
    "train_error = []\n",
    "test_error = []\n",
    "\n",
    "x = np.arange(epochs) +1\n",
    "\n",
    "for epoch in range(epochs):\n",
    "    print(epoch)\n",
    "    cf.fit(train)\n",
    "    train_error.append(cf.current_loss)\n",
    "    test_error.append(cf.evaluate(test))"
   ]
  },
  {
   "cell_type": "code",
   "execution_count": 50,
   "metadata": {},
   "outputs": [
    {
     "data": {
      "image/png": "[encoded data removed]",
      "text/plain": [
       "<Figure size 432x288 with 1 Axes>"
      ]
     },
     "metadata": {
      "needs_background": "light"
     },
     "output_type": "display_data"
    }
   ],
   "source": [
    "# plotting the line 1 points \n",
    "plt.plot(x, train_error, label = \"train loss\")\n",
    "# plotting the line 2 points \n",
    "plt.plot(x, test_error, label = \"test loss\")\n",
    "plt.xlabel('Epoch')\n",
    "# Set the y axis label of the current axis.\n",
    "plt.ylabel('RMSE Loss')\n",
    "# Set a title of the current axes.\n",
    "plt.title('Loss')\n",
    "# Y-axis range for comparisons\n",
    "plt.ylim([0,2])\n",
    "# show a legend on the plot\n",
    "plt.legend()\n",
    "# Display a figure.\n",
    "plt.show()"
   ]
  },
  {
   "cell_type": "code",
   "execution_count": 46,
   "metadata": {},
   "outputs": [
    {
     "data": {
      "text/plain": [
       "[0.9548424433578144,\n",
       " 0.7160364831035787,\n",
       " 0.6816371733492071,\n",
       " 0.6712628967382691,\n",
       " 0.6647666530175642]"
      ]
     },
     "execution_count": 46,
     "metadata": {},
     "output_type": "execute_result"
    }
   ],
   "source": [
    "train_error"
   ]
  },
  {
   "cell_type": "code",
   "execution_count": 47,
   "metadata": {},
   "outputs": [
    {
     "data": {
      "text/plain": [
       "[1.079264760017395,\n",
       " 0.9679803848266602,\n",
       " 0.9514721035957336,\n",
       " 0.9431702494621277,\n",
       " 0.9363325238227844]"
      ]
     },
     "execution_count": 47,
     "metadata": {},
     "output_type": "execute_result"
    }
   ],
   "source": [
    "test_error"
   ]
  },
  {
   "cell_type": "code",
   "execution_count": null,
   "metadata": {},
   "outputs": [],
   "source": []
  }
 ],
 "metadata": {
  "kernelspec": {
   "display_name": "Python 3",
   "language": "python",
   "name": "python3"
  },
  "language_info": {
   "codemirror_mode": {
    "name": "ipython",
    "version": 3
   },
   "file_extension": ".py",
   "mimetype": "text/x-python",
   "name": "python",
   "nbconvert_exporter": "python",
   "pygments_lexer": "ipython3",
   "version": "3.7.6"
  }
 },
 "nbformat": 4,
 "nbformat_minor": 4
}
