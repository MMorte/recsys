{
 "cells": [
  {
   "cell_type": "code",
   "execution_count": 1,
   "metadata": {},
   "outputs": [
    {
     "name": "stdout",
     "output_type": "stream",
     "text": [
      "C:\\Users\\mmatousek\\GIT\\ncf\n"
     ]
    }
   ],
   "source": [
    "cd C:\\Users\\mmatousek\\GIT\\ncf"
   ]
  },
  {
   "cell_type": "code",
   "execution_count": 2,
   "metadata": {},
   "outputs": [],
   "source": [
    "%load_ext autoreload\n",
    "%autoreload 2"
   ]
  },
  {
   "cell_type": "code",
   "execution_count": 3,
   "metadata": {},
   "outputs": [],
   "source": [
    "from ncf.data import *\n",
    "from ncf.model import CollaborativeFiltering"
   ]
  },
  {
   "cell_type": "code",
   "execution_count": 4,
   "metadata": {},
   "outputs": [],
   "source": [
    "data = read_movie_lens(variant='ml-100k')"
   ]
  },
  {
   "cell_type": "code",
   "execution_count": 5,
   "metadata": {},
   "outputs": [],
   "source": [
    "train, test = train_test_split(data)"
   ]
  },
  {
   "cell_type": "code",
   "execution_count": 13,
   "metadata": {},
   "outputs": [],
   "source": [
    "cf = CollaborativeFiltering(n_epochs=13, y_range=(0.,5.))"
   ]
  },
  {
   "cell_type": "code",
   "execution_count": 14,
   "metadata": {
    "scrolled": true
   },
   "outputs": [
    {
     "name": "stdout",
     "output_type": "stream",
     "text": [
      "Epoch 0: loss 1.1225926052246002\n",
      "Epoch 1: loss 0.9276622450174259\n",
      "Epoch 2: loss 0.9234182372999498\n",
      "Epoch 3: loss 0.9215933943129714\n",
      "Epoch 4: loss 0.9211017243329902\n",
      "Epoch 5: loss 0.9216659046524749\n",
      "Epoch 6: loss 0.919528190295001\n",
      "Epoch 7: loss 0.9184149983706128\n",
      "Epoch 8: loss 0.9185010262820854\n",
      "Epoch 9: loss 0.9171411944762787\n",
      "Epoch 10: loss 0.9180493677114518\n",
      "Epoch 11: loss 0.9169325793986284\n",
      "Epoch 12: loss 0.9175228409131173\n"
     ]
    }
   ],
   "source": [
    "cf.fit(data=train, verbose=True)"
   ]
  },
  {
   "cell_type": "code",
   "execution_count": null,
   "metadata": {},
   "outputs": [],
   "source": []
  }
 ],
 "metadata": {
  "kernelspec": {
   "display_name": "Python 3",
   "language": "python",
   "name": "python3"
  },
  "language_info": {
   "codemirror_mode": {
    "name": "ipython",
    "version": 3
   },
   "file_extension": ".py",
   "mimetype": "text/x-python",
   "name": "python",
   "nbconvert_exporter": "python",
   "pygments_lexer": "ipython3",
   "version": "3.7.6"
  }
 },
 "nbformat": 4,
 "nbformat_minor": 4
}
